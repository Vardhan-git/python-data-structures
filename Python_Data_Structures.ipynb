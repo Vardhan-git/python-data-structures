{
  "nbformat": 4,
  "nbformat_minor": 0,
  "metadata": {
    "colab": {
      "provenance": []
    },
    "kernelspec": {
      "name": "python3",
      "display_name": "Python 3"
    },
    "language_info": {
      "name": "python"
    }
  },
  "cells": [
    {
      "cell_type": "code",
      "execution_count": null,
      "metadata": {
        "id": "DOoC8bgHVw_4"
      },
      "outputs": [],
      "source": []
    },
    {
      "cell_type": "markdown",
      "source": [
        "1.What are data structures, and why are they important?\n",
        "  - Data structure in python is useful in storing and organizing the data efficiently where it also allows to access and modify the data.\n",
        "\n",
        "2.Explain the difference between mutable and immutable data types with examples?\n",
        "  - The data structures which can be changed and modified are considered as mutable\n",
        "  - Eg for mutable: lists,dictionaries,sets\n",
        "  - The data structures which once assigned and cannot be changed or modified are considered as Immutable data structures\n",
        "  -Eg for immutable: Tuples, str\n",
        "\n",
        "3.What are the main differences between lists and tuples in Python?\n",
        "  - The major differences between lists and tuples are\n",
        "  - Lists starts with [ ] , whereas tuple starts with ()\n",
        "  - Lists are mutable , tuples are immutable.\n",
        "\n",
        "4.Describe how dictionaries store data?\n",
        "  - Dictionaries store the data in { } and they store the data in key:value format\n",
        "\n",
        "5.Why might you use a set instead of a list in Python?\n",
        "  - When ever i dont want any duplicates in my data structures i use set as set doesn't allow any duplicates\n",
        "  - As there are no duplicates in set it is also fast in membership testing when compared to lists\n",
        "\n",
        "6.What is a string in Python, and how is it different from a list?\n",
        "  - A string is immutable and it can store only the characters in \" \". whereas,lists are mutable and it can hold any data types.\n",
        "\n",
        "7.How do tuples ensure data integrity in Python?\n",
        "  - Tuples ensure data integrity by being immutable. Data once assigned cannot be modified in tuple so data integrity is possible in tuple.\n",
        "\n",
        "8.What is a hash table, and how does it relate to dictionaries in Python?\n",
        "  - Dictionaries are the data structures which store data in key: value format\n",
        "  A hash function converts that key into a unique index. when you search for the key, the same has function will find the key index and retrieves the value instantly\n",
        "\n",
        "9.Can lists contain different data types in Python?\n",
        "  - yes, list can hold values with different data types\n",
        "\n",
        "10.Explain why strings are immutable in Python?\n",
        "  - Strings are immutable in python for memory efficiency\n",
        "\n",
        "11.What advantages do dictionaries offer over lists for certain tasks?\n",
        "  - Using dictionaries we can access values using key, this is faster when compared to accessing elements in list using index position.\n",
        "\n",
        "12.Describe a scenario where using a tuple would be preferable over a list?\n",
        "  - Tuple is preferrable over a list  when data integrity ins necessary and when data cannot be changed.\n",
        "\n",
        "13.How do sets handle duplicate values in Python?\n",
        "  - when you try to create a set and insert duplicat values in set it will automatically discard them.\n",
        "\n",
        "14.How does the “in” keyword work differently for lists and dictionaries?\n",
        "  - in is a membership check operator, in will check whether a element is present in the data structure\n",
        "  - In lists \"in\" operator will check whether the value is present.\n",
        "  - In dictionaries \"in\" operator will check whether the keys are present\n",
        "\n",
        "15.Can you modify the elements of a tuple? Explain why or why not?\n",
        "  - No, you cannot modify elements of a tuple, Tuples are immutable data once assigned in tuples cannot be changed or modified.\n",
        "\n",
        "16.What is a nested dictionary, give and example of its use case?\n",
        "  - Nested dictionary is nothing but dictionary inside a dictionary.\n",
        "  - eg: my_info = {\"name\": \"Vardhan\" , \"age\": 26, \"skills\":{\"Backend\":\"python\",\"front-end\":[\"Html\",\"css\"],\"database\":\"Mysql\"}}\n",
        "  - In the above example you observe that i have created a dictionary inside a dictionary\n",
        "\n",
        "17.Describe the time complexity of accessing elements in a dictionary?\n",
        "  - when hash table assigns the same index position to different key in a dictionary, when you try to access the key then time complexity occurs.\n",
        "\n",
        "18.In what situations are lists preferred over dictionaries?\n",
        "  - Whenever order matters, lists are preferred over dictionaries.\n",
        "\n",
        "19.Why are dictionaries considered unordered, and how does that affect data retrieval?\n",
        "  - The values in the dictionaries are accessed through keys not through position. That is why dictionaries are considered as unordered.\n",
        "\n",
        "20.Explain the difference between a list and a dictionary in terms of data retrieval?\n",
        "  - The data in the lists are retrieved by position.\n",
        "  _ The data in dictionaries are retrieved by keys."
      ],
      "metadata": {
        "id": "ZWq807ZvVxtj"
      }
    },
    {
      "cell_type": "code",
      "source": [
        "#Write a code to create a string with your name and print it\n",
        "name = \"Vardhan\"\n",
        "print(name)"
      ],
      "metadata": {
        "colab": {
          "base_uri": "https://localhost:8080/"
        },
        "id": "ihJmOkd9wkjw",
        "outputId": "ca0830e0-552e-4853-884f-c88f0dd6357c"
      },
      "execution_count": 1,
      "outputs": [
        {
          "output_type": "stream",
          "name": "stdout",
          "text": [
            "Vardhan\n"
          ]
        }
      ]
    },
    {
      "cell_type": "code",
      "source": [
        "#Write a code to find the length of the string \"Hello World\"\n",
        "string = \"Hello World\"\n",
        "print(len(string))"
      ],
      "metadata": {
        "colab": {
          "base_uri": "https://localhost:8080/"
        },
        "id": "Tg_kexz7wzZA",
        "outputId": "ba39ab70-3706-4ab9-eb12-e1d9967363bc"
      },
      "execution_count": 2,
      "outputs": [
        {
          "output_type": "stream",
          "name": "stdout",
          "text": [
            "11\n"
          ]
        }
      ]
    },
    {
      "cell_type": "code",
      "source": [
        "#Write a code to slice the first 3 characters from the string \"Python Programming\"\n",
        "string = \"Python Programming\"\n",
        "print(string[0:3])"
      ],
      "metadata": {
        "colab": {
          "base_uri": "https://localhost:8080/"
        },
        "id": "ViSyWSJHwzcA",
        "outputId": "ef67e483-1f5e-4649-f1b0-6eab928967a7"
      },
      "execution_count": 3,
      "outputs": [
        {
          "output_type": "stream",
          "name": "stdout",
          "text": [
            "Pyth\n"
          ]
        }
      ]
    },
    {
      "cell_type": "code",
      "source": [
        "#Write a code to convert the string \"hello\" to uppercase\n",
        "string = \"hello\"\n",
        "uppercase = string.upper()\n",
        "print(uppercase)"
      ],
      "metadata": {
        "colab": {
          "base_uri": "https://localhost:8080/"
        },
        "id": "JlPcbfkJwzex",
        "outputId": "1b93c386-0f2e-464b-905d-a4a4759b98a6"
      },
      "execution_count": 4,
      "outputs": [
        {
          "output_type": "stream",
          "name": "stdout",
          "text": [
            "HELLO\n"
          ]
        }
      ]
    },
    {
      "cell_type": "code",
      "source": [
        "#Write a code to replace the word \"apple\" with \"orange\" in the string \"I like apple\"\n",
        "sentence = \"I like apple\"\n",
        "replaced_sentence = sentence.replace(\"apple\",\"orange\")\n",
        "print(replaced_sentence)"
      ],
      "metadata": {
        "colab": {
          "base_uri": "https://localhost:8080/"
        },
        "id": "Pm8p03BfxY80",
        "outputId": "4d9453fa-aeb5-4111-96a2-e82eff404514"
      },
      "execution_count": 6,
      "outputs": [
        {
          "output_type": "stream",
          "name": "stdout",
          "text": [
            "I like orange\n"
          ]
        }
      ]
    },
    {
      "cell_type": "code",
      "source": [
        "#Write a code to create a list with numbers 1 to 5 and print it\n",
        "print(list(range(1,6)))"
      ],
      "metadata": {
        "colab": {
          "base_uri": "https://localhost:8080/"
        },
        "id": "a16s5fo6xqXv",
        "outputId": "1647f5e3-25b2-4757-a6c7-01df05c5f3f6"
      },
      "execution_count": 7,
      "outputs": [
        {
          "output_type": "stream",
          "name": "stdout",
          "text": [
            "[1, 2, 3, 4, 5]\n"
          ]
        }
      ]
    },
    {
      "cell_type": "code",
      "source": [
        "#Write a code to append the number 10 to the list [1, 2, 3, 4]\n",
        "list_a = [1,2,3,4]\n",
        "list_a.append(10)\n",
        "print(list_a)"
      ],
      "metadata": {
        "colab": {
          "base_uri": "https://localhost:8080/"
        },
        "id": "GjE4jcZIx0gH",
        "outputId": "2c47e3b1-0e8e-4e98-a054-7f4711f6050e"
      },
      "execution_count": 8,
      "outputs": [
        {
          "output_type": "stream",
          "name": "stdout",
          "text": [
            "[1, 2, 3, 4, 10]\n"
          ]
        }
      ]
    },
    {
      "cell_type": "code",
      "source": [
        "# Write a code to remove the number 3 from the list [1, 2, 3, 4, 5]\n",
        "list_a = [1,2,3,4,5]\n",
        "list_a.remove(3)\n",
        "print(list_a)"
      ],
      "metadata": {
        "colab": {
          "base_uri": "https://localhost:8080/"
        },
        "id": "mW4rPkNBx7f4",
        "outputId": "6b03b673-e7e7-499f-8548-7a4fb6c9beaf"
      },
      "execution_count": 9,
      "outputs": [
        {
          "output_type": "stream",
          "name": "stdout",
          "text": [
            "[1, 2, 4, 5]\n"
          ]
        }
      ]
    },
    {
      "cell_type": "code",
      "source": [
        "#Write a code to access the second element in the list ['a', 'b', 'c', 'd']\n",
        "list_a = ['a','b','c','d']\n",
        "print(list_a[1])"
      ],
      "metadata": {
        "colab": {
          "base_uri": "https://localhost:8080/"
        },
        "id": "LOcsloUeyF3J",
        "outputId": "6de5a469-e38b-4b1e-a936-98a4230a06d3"
      },
      "execution_count": 10,
      "outputs": [
        {
          "output_type": "stream",
          "name": "stdout",
          "text": [
            "b\n"
          ]
        }
      ]
    },
    {
      "cell_type": "code",
      "source": [
        "#Write a code to reverse the list [10, 20, 30, 40, 50]\n",
        "list_a = [10,20,30,40,50]\n",
        "print(list_a[::-1])"
      ],
      "metadata": {
        "colab": {
          "base_uri": "https://localhost:8080/"
        },
        "id": "NnDGplmvyF5i",
        "outputId": "0fb3b646-f82d-49c3-d7f6-b6aa05381658"
      },
      "execution_count": 11,
      "outputs": [
        {
          "output_type": "stream",
          "name": "stdout",
          "text": [
            "[50, 40, 30, 20, 10]\n"
          ]
        }
      ]
    },
    {
      "cell_type": "code",
      "source": [
        "#Write a code to create a tuple with the elements 100, 200, 300 and print it\n",
        "tuple_a = (100,200,300)\n",
        "print(tuple_a)"
      ],
      "metadata": {
        "colab": {
          "base_uri": "https://localhost:8080/"
        },
        "id": "KOCsDi1_yF8B",
        "outputId": "7d411bff-02ba-4321-9030-529efff5d118"
      },
      "execution_count": 12,
      "outputs": [
        {
          "output_type": "stream",
          "name": "stdout",
          "text": [
            "(100, 200, 300)\n"
          ]
        }
      ]
    },
    {
      "cell_type": "code",
      "source": [
        "#Write a code to access the second-to-last element of the tuple ('red', 'green', 'blue', 'yellow')\n",
        "tuple_a = ('red','green','blue','yellow')\n",
        "print(tuple_a[-2])"
      ],
      "metadata": {
        "colab": {
          "base_uri": "https://localhost:8080/"
        },
        "id": "069PkzWfyF-B",
        "outputId": "c104d5e2-97c9-41d9-ae12-0c8d1cacebc5"
      },
      "execution_count": 13,
      "outputs": [
        {
          "output_type": "stream",
          "name": "stdout",
          "text": [
            "blue\n"
          ]
        }
      ]
    },
    {
      "cell_type": "code",
      "source": [
        "#Write a code to find the minimum number in the tuple (10, 20, 5, 15).\n",
        "tuple_a = (10,20,5,15)\n",
        "print(min(tuple_a))"
      ],
      "metadata": {
        "colab": {
          "base_uri": "https://localhost:8080/"
        },
        "id": "Y3jflzj-yGA3",
        "outputId": "d025f075-1c06-4806-b0eb-c9d189764989"
      },
      "execution_count": 14,
      "outputs": [
        {
          "output_type": "stream",
          "name": "stdout",
          "text": [
            "5\n"
          ]
        }
      ]
    },
    {
      "cell_type": "code",
      "source": [
        "#Write a code to find the index of the element \"cat\" in the tuple ('dog', 'cat', 'rabbit').\n",
        "tuple_a = ('dog','cat','rabbit')\n",
        "print(tuple_a.index('cat'))"
      ],
      "metadata": {
        "colab": {
          "base_uri": "https://localhost:8080/"
        },
        "id": "N9ZHai5lyGE5",
        "outputId": "9d5925f2-0c9a-4dbf-e79c-73f99a664fe3"
      },
      "execution_count": 15,
      "outputs": [
        {
          "output_type": "stream",
          "name": "stdout",
          "text": [
            "1\n"
          ]
        }
      ]
    },
    {
      "cell_type": "code",
      "source": [
        "#Write a code to create a tuple containing three different fruits and check if \"kiwi\" is in it.\n",
        "tuple_a = (\"apple\",\"mango\",\"kiwi\")\n",
        "kiwi_presence = \"kiwi\" in tuple_a\n",
        "print(kiwi_presence)"
      ],
      "metadata": {
        "colab": {
          "base_uri": "https://localhost:8080/"
        },
        "id": "UgJ0FUkRyGIA",
        "outputId": "7cf92def-df02-44db-90a3-84b8976e3107"
      },
      "execution_count": 16,
      "outputs": [
        {
          "output_type": "stream",
          "name": "stdout",
          "text": [
            "True\n"
          ]
        }
      ]
    },
    {
      "cell_type": "code",
      "source": [
        "#Write a code to create a set with the elements 'a', 'b', 'c' and print it.\n",
        "set_a = {'a','b','c'}\n",
        "print(set_a)"
      ],
      "metadata": {
        "colab": {
          "base_uri": "https://localhost:8080/"
        },
        "id": "ndAexIHByGKv",
        "outputId": "393197b8-ab44-47a4-a1e5-07c4f68a5ca6"
      },
      "execution_count": 17,
      "outputs": [
        {
          "output_type": "stream",
          "name": "stdout",
          "text": [
            "{'b', 'a', 'c'}\n"
          ]
        }
      ]
    },
    {
      "cell_type": "code",
      "source": [
        "#Write a code to clear all elements from the set {1, 2, 3, 4, 5}\n",
        "set_a = {1,2,3,4,5}\n",
        "set_a.clear()\n",
        "print(set_a)"
      ],
      "metadata": {
        "colab": {
          "base_uri": "https://localhost:8080/"
        },
        "id": "znddxT8kyGPr",
        "outputId": "6ec0ed65-c7a7-441c-c72e-62669097d894"
      },
      "execution_count": 18,
      "outputs": [
        {
          "output_type": "stream",
          "name": "stdout",
          "text": [
            "set()\n"
          ]
        }
      ]
    },
    {
      "cell_type": "code",
      "source": [
        "#Write a code to remove the element 4 from the set {1, 2, 3, 4}.\n",
        "set_a = {1,2,3,4}\n",
        "set_a.discard(4)\n",
        "print(set_a)"
      ],
      "metadata": {
        "colab": {
          "base_uri": "https://localhost:8080/"
        },
        "id": "SdEmpgT_zJrm",
        "outputId": "7b8848fc-07cd-4def-ae1e-853c0dd5e08f"
      },
      "execution_count": 19,
      "outputs": [
        {
          "output_type": "stream",
          "name": "stdout",
          "text": [
            "{1, 2, 3}\n"
          ]
        }
      ]
    },
    {
      "cell_type": "code",
      "source": [
        "# Write a code to find the union of two sets {1, 2, 3} and {3, 4, 5}.\n",
        "set_a = {1,2,3}\n",
        "set_b = {3,4,5}\n",
        "print(set_a | set_b)"
      ],
      "metadata": {
        "colab": {
          "base_uri": "https://localhost:8080/"
        },
        "id": "eiSQebEGzT8H",
        "outputId": "5e0a1a1b-b74f-4a39-ce27-81a10069339b"
      },
      "execution_count": 20,
      "outputs": [
        {
          "output_type": "stream",
          "name": "stdout",
          "text": [
            "{1, 2, 3, 4, 5}\n"
          ]
        }
      ]
    },
    {
      "cell_type": "code",
      "source": [
        "#Write a code to find the intersection of two sets {1, 2, 3} and {2, 3, 4}.\n",
        "set_a = {1,2,3}\n",
        "set_b = {2,3,4}\n",
        "print(set_a & set_b)"
      ],
      "metadata": {
        "colab": {
          "base_uri": "https://localhost:8080/"
        },
        "id": "nSG5k8HTzcWx",
        "outputId": "61106383-0265-4d6c-c878-96678852f94b"
      },
      "execution_count": 21,
      "outputs": [
        {
          "output_type": "stream",
          "name": "stdout",
          "text": [
            "{2, 3}\n"
          ]
        }
      ]
    },
    {
      "cell_type": "code",
      "source": [
        "# Write a code to create a dictionary with the keys \"name\", \"age\", and \"city\", and print it\n",
        "dict_a = {\"name\": \"Vardhan\", \"age\": 26, \"city\": \"Hyderabad\"}\n",
        "print(dict_a)"
      ],
      "metadata": {
        "colab": {
          "base_uri": "https://localhost:8080/"
        },
        "id": "sQe5GhyqzchP",
        "outputId": "6dff9d9c-fec3-4ccd-f5af-a5e7c17832cb"
      },
      "execution_count": 22,
      "outputs": [
        {
          "output_type": "stream",
          "name": "stdout",
          "text": [
            "{'name': 'Vardhan', 'age': 26, 'city': 'Hyderabad'}\n"
          ]
        }
      ]
    },
    {
      "cell_type": "code",
      "source": [
        "#Write a code to add a new key-value pair \"country\": \"USA\" to the dictionary {'name': 'John', 'age': 25}\n",
        "dict_a = {'name': 'John', 'age': 25}\n",
        "dict_a['country'] = 'USA'\n",
        "print(dict_a)"
      ],
      "metadata": {
        "colab": {
          "base_uri": "https://localhost:8080/"
        },
        "id": "jxlHZnFozcjo",
        "outputId": "f31737e7-0a77-4d87-871b-e086f2c7a753"
      },
      "execution_count": 23,
      "outputs": [
        {
          "output_type": "stream",
          "name": "stdout",
          "text": [
            "{'name': 'John', 'age': 25, 'country': 'USA'}\n"
          ]
        }
      ]
    },
    {
      "cell_type": "code",
      "source": [
        "# Write a code to access the value associated with the key \"name\" in the dictionary {'name': 'Alice', 'age': 30}.\n",
        "dict_a = {'name': 'Alice', 'age': 30}\n",
        "print(dict_a['name'])"
      ],
      "metadata": {
        "colab": {
          "base_uri": "https://localhost:8080/"
        },
        "id": "egXix7NUzclw",
        "outputId": "faa1f954-245b-4870-cba9-6b5374ca4324"
      },
      "execution_count": 24,
      "outputs": [
        {
          "output_type": "stream",
          "name": "stdout",
          "text": [
            "Alice\n"
          ]
        }
      ]
    },
    {
      "cell_type": "code",
      "source": [
        "# Write a code to remove the key \"age\" from the dictionary {'name': 'Bob', 'age': 22, 'city': 'New York'}\n",
        "dict_a = {'name': 'Bob', 'age': 22, 'city': 'New York'}\n",
        "dict_a.pop('age')\n",
        "print(dict_a)"
      ],
      "metadata": {
        "colab": {
          "base_uri": "https://localhost:8080/"
        },
        "id": "_RsV1CWJz5i7",
        "outputId": "b840b7fe-a52e-404c-ce01-d0d09719d1d5"
      },
      "execution_count": 25,
      "outputs": [
        {
          "output_type": "stream",
          "name": "stdout",
          "text": [
            "{'name': 'Bob', 'city': 'New York'}\n"
          ]
        }
      ]
    },
    {
      "cell_type": "code",
      "source": [
        "# Write a code to check if the key \"city\" exists in the dictionary {'name': 'Alice', 'city': 'Paris'}.\n",
        "dict_a = {'name': 'Alice', 'city': 'Paris'}\n",
        "if 'city' in dict_a:\n",
        "    print(\"Exists\")\n",
        "else:\n",
        "    print(\"Does not exist.\")\n"
      ],
      "metadata": {
        "colab": {
          "base_uri": "https://localhost:8080/"
        },
        "id": "N-NMZi9Zz5lb",
        "outputId": "d9c93a5b-cba5-431a-f297-9d70ad283026"
      },
      "execution_count": 26,
      "outputs": [
        {
          "output_type": "stream",
          "name": "stdout",
          "text": [
            "Exists\n"
          ]
        }
      ]
    },
    {
      "cell_type": "code",
      "source": [
        "#Write a code to create a list, a tuple, and a dictionary, and print them all.\n",
        "list_a = [\"vardhan\",26,90.2]\n",
        "tuple_a = (\"vardhan\",26,90.2)\n",
        "dict_a = {\"name\":\"vardhan\",\"age\":26,\"marks\":90.2}\n",
        "print(list_a)\n",
        "print(set_a)\n",
        "print(dict_a)\n",
        "\n"
      ],
      "metadata": {
        "colab": {
          "base_uri": "https://localhost:8080/"
        },
        "id": "uSAl1IR-z5oD",
        "outputId": "8967aeed-bd88-4a07-8572-18c3182a6b3e"
      },
      "execution_count": 27,
      "outputs": [
        {
          "output_type": "stream",
          "name": "stdout",
          "text": [
            "['vardhan', 26, 90.2]\n",
            "{1, 2, 3}\n",
            "{'name': 'vardhan', 'age': 26, 'marks': 90.2}\n"
          ]
        }
      ]
    },
    {
      "cell_type": "code",
      "source": [
        "# Write a code to create a list of 5 random numbers between 1 and 100, sort it in ascending order, and print the result.\n",
        "import random\n",
        "list_a = random.sample(range(1,100),5)\n",
        "list_a.sort()\n",
        "print(list_a)"
      ],
      "metadata": {
        "colab": {
          "base_uri": "https://localhost:8080/"
        },
        "id": "zXLMl92J0j_o",
        "outputId": "175474b4-6be2-4740-8ed4-c7ece7b4e3b5"
      },
      "execution_count": 28,
      "outputs": [
        {
          "output_type": "stream",
          "name": "stdout",
          "text": [
            "[24, 38, 62, 66, 80]\n"
          ]
        }
      ]
    },
    {
      "cell_type": "code",
      "source": [
        "#Write a code to create a list with strings and print the element at the third index\n",
        "list_a = [\"apple\",\"mango\",\"kiwi\",\"Banana\"]\n",
        "print(list_a[3])"
      ],
      "metadata": {
        "colab": {
          "base_uri": "https://localhost:8080/"
        },
        "id": "mV3uMMo10kKm",
        "outputId": "79e8ddde-16fe-46dc-826e-b2ecdebba91a"
      },
      "execution_count": 29,
      "outputs": [
        {
          "output_type": "stream",
          "name": "stdout",
          "text": [
            "Banana\n"
          ]
        }
      ]
    },
    {
      "cell_type": "code",
      "source": [
        "#Write a code to combine two dictionaries into one and print the result\n",
        "dict_a = {\"name\":\"vardhan\",\"age\":26,\"marks\":90.2}\n",
        "dict_b = {'name': 'Alice', 'city': 'Paris'}\n",
        "dict_a.update(dict_b)\n",
        "print(dict_a)"
      ],
      "metadata": {
        "colab": {
          "base_uri": "https://localhost:8080/"
        },
        "id": "VgZTvv2y0kNm",
        "outputId": "8d660ae5-03c6-4ef3-d6b2-3dc11f3709d3"
      },
      "execution_count": 32,
      "outputs": [
        {
          "output_type": "stream",
          "name": "stdout",
          "text": [
            "{'name': 'Alice', 'age': 26, 'marks': 90.2, 'city': 'Paris'}\n"
          ]
        }
      ]
    },
    {
      "cell_type": "code",
      "source": [
        "#Write a code to convert a list of strings into a set.\n",
        "list_a = [\"apple\",\"mango\",\"kiwi\",\"Banana\"]\n",
        "print(set(list_a))"
      ],
      "metadata": {
        "colab": {
          "base_uri": "https://localhost:8080/"
        },
        "id": "7Sit20sd0kQu",
        "outputId": "ec9aee14-281d-4728-f621-e2e9a09dddc0"
      },
      "execution_count": 33,
      "outputs": [
        {
          "output_type": "stream",
          "name": "stdout",
          "text": [
            "{'mango', 'Banana', 'kiwi', 'apple'}\n"
          ]
        }
      ]
    },
    {
      "cell_type": "code",
      "source": [],
      "metadata": {
        "id": "jp9AFH6G0kUm"
      },
      "execution_count": null,
      "outputs": []
    }
  ]
}